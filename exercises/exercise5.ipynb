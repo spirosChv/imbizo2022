{
  "nbformat": 4,
  "nbformat_minor": 0,
  "metadata": {
    "colab": {
      "name": "exercise5.ipynb",
      "provenance": [],
      "collapsed_sections": [],
      "toc_visible": true,
      "include_colab_link": true
    },
    "kernelspec": {
      "name": "python3",
      "display_name": "Python 3"
    },
    "language_info": {
      "name": "python"
    }
  },
  "cells": [
    {
      "cell_type": "markdown",
      "metadata": {
        "id": "view-in-github",
        "colab_type": "text"
      },
      "source": [
        "<a href=\"https://colab.research.google.com/github/spirosChv/imbizo2022/blob/main/exercises/exercise5.ipynb\" target=\"_parent\"><img src=\"https://colab.research.google.com/assets/colab-badge.svg\" alt=\"Open In Colab\"/></a>"
      ]
    },
    {
      "cell_type": "markdown",
      "source": [
        "# Simulating dendrites - Part 5: BAC model"
      ],
      "metadata": {
        "id": "CFFz4a7p0BOz"
      }
    },
    {
      "cell_type": "markdown",
      "source": [
        "First, we install neuron with python. For more info see [here](https://www.neuron.yale.edu/neuron/download)."
      ],
      "metadata": {
        "id": "4y_RNml7uHie"
      }
    },
    {
      "cell_type": "code",
      "source": [
        "!pip install neuron --quiet"
      ],
      "metadata": {
        "id": "B0VtDTHqz0Ge"
      },
      "execution_count": null,
      "outputs": []
    },
    {
      "cell_type": "markdown",
      "source": [
        "We import some basic python packages and the NEURON package."
      ],
      "metadata": {
        "id": "YPbGWFN0uROI"
      }
    },
    {
      "cell_type": "markdown",
      "source": [
        "## Compile ion channel models (.mod files)"
      ],
      "metadata": {
        "id": "KrjMzJAt83GM"
      }
    },
    {
      "cell_type": "code",
      "source": [
        "# @title Create the mod file `SlowCa.mod`\n",
        "# @markdown Execute this cell.\n",
        "with open(\"SlowCa.mod\", \"w\") as file:\n",
        "  file.write(\"\"\"\n",
        "    TITLE HVA Ca2+ current\n",
        "\n",
        "    COMMENT\n",
        "    Uses fixed eca instead of GHK eqn\n",
        "    Based on Reuveni, Friedman, Amitai and Gutnick (1993) J. Neurosci. 13: 4609-4621.\n",
        "    Changed from (AS Oct0899) ca.mod\n",
        "    \n",
        "    Author: Zach Mainen, Salk Institute, 1994, zach@salk.edu\n",
        "    ENDCOMMENT\n",
        "\n",
        "    INDEPENDENT {t FROM 0 TO 1 WITH 1 (ms)}\n",
        "\n",
        "    NEURON {\n",
        "        SUFFIX sca\n",
        "        USEION ca READ eca WRITE ica\n",
        "        RANGE m, h, gca, gbar\n",
        "        RANGE minf, hinf, mtau, htau, inactF, actF\n",
        "        GLOBAL q10, temp, tadj, vmin, vmax, vshift\n",
        "    }\n",
        "\n",
        "    UNITS {\n",
        "        (mA) = (milliamp)\n",
        "        (mV) = (millivolt)\n",
        "        (pS) = (picosiemens)\n",
        "        (um) = (micron)\n",
        "        FARADAY = (faraday) (coulomb)\n",
        "        R = (k-mole) (joule/degC)\n",
        "        PI = (pi) (1)\n",
        "    }\n",
        "\n",
        "    PARAMETER {\n",
        "        inactF = 3\n",
        "        actF = 1\n",
        "        gbar = 0.1 (pS/um2) : 0.12 mho/cm2\n",
        "        vshift = 0 (mV) : voltage shift (affects all)\n",
        "\n",
        "        cao = 2.5 (mM) : external ca concentration\n",
        "        cai (mM)\n",
        "\n",
        "        temp = 23 (degC) : original temp \n",
        "        q10 = 2.3 : temperature sensitivity\n",
        "\n",
        "        v (mV)\n",
        "        dt (ms)\n",
        "        celsius (degC)\n",
        "        vmin = -120\t(mV)\n",
        "        vmax = 100 (mV)\n",
        "    }\n",
        "\n",
        "    ASSIGNED {\n",
        "        ica (mA/cm2)\n",
        "        gca (pS/um2)\n",
        "        eca (mV)\n",
        "        minf\n",
        "        hinf\n",
        "        mtau (ms)\n",
        "        htau (ms)\n",
        "        tadj\n",
        "    }\n",
        "\n",
        "    STATE { m h }\n",
        "\n",
        "    INITIAL { \n",
        "        trates(v+vshift)\n",
        "        m = minf\n",
        "        h = hinf\n",
        "    }\n",
        "\n",
        "    BREAKPOINT {\n",
        "        SOLVE states\n",
        "        gca = tadj*gbar*m*m*h\n",
        "        ica = (1e-4) * gca * (v - eca)\n",
        "    } \n",
        "\n",
        "    LOCAL mexp, hexp\n",
        "\n",
        "    PROCEDURE states() {\n",
        "        trates(v+vshift)\n",
        "        m = m + mexp*(minf-m)\n",
        "        h = h + hexp*(hinf-h)\n",
        "        VERBATIM\n",
        "        return 0;\n",
        "        ENDVERBATIM\n",
        "    }\n",
        "\n",
        "    PROCEDURE trates(v) {\n",
        "        LOCAL tinc\n",
        "        TABLE minf, mexp, hinf, hexp\n",
        "        DEPEND dt, celsius, temp, inactF\n",
        "\n",
        "        FROM vmin TO vmax WITH 199\n",
        "\n",
        "        rates(v): not consistently executed from here if usetable == 1\n",
        "\n",
        "        tadj = q10^((celsius - temp)/10)\n",
        "        tinc = -dt * tadj\n",
        "\n",
        "        mexp = 1 - exp(tinc/mtau)\n",
        "        hexp = 1 - exp(tinc/htau)\n",
        "    }\n",
        "\n",
        "    PROCEDURE rates(vm) {  \n",
        "        LOCAL a, b\n",
        "        :-27\n",
        "        :-75\n",
        "        a = 0.055*(-35 - vm)/(exp((-35-vm)/1) - 1)/actF  :3.8\n",
        "        b = 0.94*exp((-75-vm)/17)/actF\n",
        "\n",
        "        mtau = 1/(a+b)\n",
        "        minf = a*mtau\n",
        "\n",
        "        :\"h\" inactivation \n",
        "\n",
        "        a = 0.000457*exp((-13-vm)/50)/inactF\n",
        "        b = 0.0065/(exp((-vm-15)/28) + 1)/inactF\n",
        "\n",
        "        htau = 1/(a+b) : originally *1\n",
        "        hinf = a*htau\n",
        "    }\n",
        "\n",
        "    FUNCTION efun(z) {\n",
        "        if (fabs(z) < 1e-4) {\n",
        "        efun = 1 - z/2\n",
        "        }else{\n",
        "        efun = z/(exp(z) - 1)\n",
        "        }\n",
        "    }\n",
        "  \"\"\")"
      ],
      "metadata": {
        "id": "iGD02eri9D5c",
        "cellView": "form"
      },
      "execution_count": null,
      "outputs": []
    },
    {
      "cell_type": "code",
      "source": [
        "# @title Create the mod file `cad.mod`\n",
        "# @markdown Execute this cell.\n",
        "with open(\"cad.mod\", \"w\") as file:\n",
        "  file.write(\"\"\"\n",
        "\n",
        "    TITLE decay of internal calcium concentration\n",
        "    \n",
        "    COMMENT\n",
        "    : Internal calcium concentration due to calcium currents and pump.\n",
        "    : Differential equations.\n",
        "    :\n",
        "    : Simple model of ATPase pump with 3 kinetic constants (Destexhe 92)\n",
        "    :     Cai + P <-> CaP -> Cao + P  (k1,k2,k3)\n",
        "    : A Michaelis-Menten approximation is assumed, which reduces the complexity\n",
        "    : of the system to 2 parameters: \n",
        "    :       kt = <tot enzyme concentration> * k3  -> TIME CONSTANT OF THE PUMP\n",
        "    :\tkd = k2/k1 (dissociation constant)    -> EQUILIBRIUM CALCIUM VALUE\n",
        "    : The values of these parameters are chosen assuming a high affinity of \n",
        "    : the pump to calcium and a low transport capacity (cfr. Blaustein, \n",
        "    : TINS, 11: 438, 1988, and references therein).  \n",
        "    :\n",
        "    : Units checked using \"modlunit\" -> factor 10000 needed in ca entry\n",
        "    :\n",
        "    : VERSION OF PUMP + DECAY (decay can be viewed as simplified buffering)\n",
        "    :\n",
        "    : All variables are range variables\n",
        "    :\n",
        "    : adopted from the lower model by AS 102199\n",
        "    :\n",
        "    : This mechanism was published in:  Destexhe, A. Babloyantz, A. and \n",
        "    : Sejnowski, TJ.  Ionic mechanisms for intrinsic slow oscillations in\n",
        "    : thalamic relay neurons. Biophys. J. 65: 1538-1552, 1993)\n",
        "    :\n",
        "    : Written by Alain Destexhe, Salk Institute, Nov 12, 1992\n",
        "    :\n",
        "    ENDCOMMENT\n",
        "\n",
        "    INDEPENDENT {t FROM 0 TO 1 WITH 1 (ms)}\n",
        "\n",
        "    NEURON {\n",
        "        SUFFIX cad\n",
        "        USEION ca READ ica, cai WRITE cai\n",
        "        RANGE ca\n",
        "        GLOBAL depth,cainf,taur\n",
        "    }\n",
        "\n",
        "    UNITS {\n",
        "        (molar) = (1/liter)  : moles do not appear in units\n",
        "        (mM) = (millimolar)\n",
        "        (um) = (micron)\n",
        "        (mA) = (milliamp)\n",
        "        (msM)\t= (ms mM)\n",
        "        FARADAY = (faraday) (coulomb)\n",
        "    }\n",
        "\n",
        "    PARAMETER {\n",
        "        depth\t= .1\t(um) : depth of shell\n",
        "        taur = 100\t(ms) : rate of calcium removal, changed from 200 to 80 (H.Markram)\n",
        "        cainf\t= 100e-6 (mM)\n",
        "        cai (mM)\n",
        "    }\n",
        "\n",
        "    STATE {\n",
        "        ca (mM) \n",
        "    }\n",
        "\n",
        "    INITIAL {\n",
        "        ca = cainf\n",
        "    }\n",
        "\n",
        "    ASSIGNED {\n",
        "      ica  (mA/cm2)\n",
        "      drive_channel\t(mM/ms)\n",
        "    }\n",
        "\n",
        "    BREAKPOINT {\n",
        "        SOLVE state METHOD euler\n",
        "    }\n",
        "\n",
        "    DERIVATIVE state { \n",
        "        drive_channel =  - (10000) * ica / (2 * FARADAY * depth)\n",
        "        if (drive_channel <= 0.) { drive_channel = 0. }\t: cannot pump inward\n",
        "\n",
        "        ca' = drive_channel + (cainf-ca)/taur\n",
        "        cai = ca\n",
        "    }\n",
        "  \"\"\")"
      ],
      "metadata": {
        "id": "tJ_reGGI85zv",
        "cellView": "form"
      },
      "execution_count": null,
      "outputs": []
    },
    {
      "cell_type": "code",
      "source": [
        "# @title Remove old executables and compile with `nrnivmodl`\n",
        "!rm -rf x86_64/\n",
        "!nrnivmodl"
      ],
      "metadata": {
        "id": "_qZn0-7T9bwY",
        "cellView": "form"
      },
      "execution_count": null,
      "outputs": []
    },
    {
      "cell_type": "code",
      "execution_count": null,
      "metadata": {
        "id": "usthWgIfzjmM"
      },
      "outputs": [],
      "source": [
        "import numpy as np\n",
        "import matplotlib.pyplot as plt\n",
        "from neuron import h\n",
        "h.load_file(\"stdrun.hoc\")"
      ]
    },
    {
      "cell_type": "code",
      "source": [
        "# @title Make nicer plots -- Execute this cell\n",
        "def mystyle():\n",
        "  \"\"\"\n",
        "  Create custom plotting style.\n",
        "\n",
        "  Returns\n",
        "  -------\n",
        "  my_style : dict\n",
        "      Dictionary with matplotlib parameters.\n",
        "\n",
        "  \"\"\"\n",
        "  # color pallette\n",
        "  style = {\n",
        "      # Use LaTeX to write all text\n",
        "      \"text.usetex\": False,\n",
        "      \"font.family\": \"DejaVu Sans\",\n",
        "      \"font.weight\": \"bold\",\n",
        "      # Use 16pt font in plots, to match 16pt font in document\n",
        "      \"axes.labelsize\": 16,\n",
        "      \"axes.titlesize\": 20,\n",
        "      \"font.size\": 16,\n",
        "      # Make the legend/label fonts a little smaller\n",
        "      \"legend.fontsize\": 14,\n",
        "      \"xtick.labelsize\": 14,\n",
        "      \"ytick.labelsize\": 14,\n",
        "      \"axes.linewidth\": 2.5,\n",
        "      \"lines.markersize\": 10.0,\n",
        "      \"lines.linewidth\": 2.5,\n",
        "      \"xtick.major.width\": 2.2,\n",
        "      \"ytick.major.width\": 2.2,\n",
        "      \"axes.labelweight\": \"bold\",\n",
        "      \"axes.spines.right\": False,\n",
        "      \"axes.spines.top\": False\n",
        "  }\n",
        "\n",
        "  return style\n",
        "\n",
        "\n",
        "plt.style.use(\"seaborn-colorblind\")\n",
        "plt.rcParams.update(mystyle())"
      ],
      "metadata": {
        "id": "bqXB1xt_8Vuh",
        "cellView": "form"
      },
      "execution_count": null,
      "outputs": []
    },
    {
      "cell_type": "markdown",
      "source": [
        "Define the simulation parameters"
      ],
      "metadata": {
        "id": "fI4fEn3tkb62"
      }
    },
    {
      "cell_type": "code",
      "source": [
        "# Simulation parameters\t\n",
        "tstop = 600  # simulation time (ms)\n",
        "h.dt = 0.1  # integration step (ms)\n",
        "vinit = -65  # initial voltage (mV)"
      ],
      "metadata": {
        "id": "5qhiFv-M0MLN"
      },
      "execution_count": null,
      "outputs": []
    },
    {
      "cell_type": "markdown",
      "source": [
        "### Create the morphology"
      ],
      "metadata": {
        "id": "8yPtsBbmz7lA"
      }
    },
    {
      "cell_type": "markdown",
      "source": [
        "First, we create the soma."
      ],
      "metadata": {
        "id": "8rp3XFr3uv1P"
      }
    },
    {
      "cell_type": "code",
      "source": [
        "soma = h.Section(name='soma')\n",
        "\n",
        "# Define properties of soma\n",
        "soma.diam = 20  # diameter (um)\n",
        "soma.L = 20  # length (um)\n",
        "soma.Ra = 100  # Axial resistance (Ohm * cm)\n",
        "soma.cm = 1  # specific membrane capacitance (uF/cm2)\n",
        "soma.nseg = 1  # number of segments\n",
        "\n",
        "# Insert the hh channels (inluding leak)\n",
        "soma.insert('hh')\n",
        "for seg in soma: \n",
        "  seg.hh.gnabar = 0.12  # Sodium conductance (S/cm2)\n",
        "  seg.hh.gkbar = 0.025  # Potassium conductance (S/cm2)\n",
        "  seg.hh.gl = 0.00025  # Leak conductance (S/cm2)\n",
        "  seg.hh.el = -65  # Reversal potential (mV)"
      ],
      "metadata": {
        "id": "OHan2Eu60Z_L"
      },
      "execution_count": null,
      "outputs": []
    },
    {
      "cell_type": "markdown",
      "source": [
        "## Define the sections!\n",
        "\n",
        "Then, we create the dendritic tree."
      ],
      "metadata": {
        "id": "k7Gl5uipu14o"
      }
    },
    {
      "cell_type": "code",
      "source": [
        "# Apical trunk sections\n",
        "trunk0 = h.Section(name='trunk0')\n",
        "trunk1 = h.Section(name='trunk1')\n",
        "trunk2 = h.Section(name='trunk2')\n",
        "trunk3 = h.Section(name='trunk3')\n",
        "trunk4 = h.Section(name='trunk4')\n",
        "# Create h.SectionList for easier handling\n",
        "trunk = h.SectionList()\n",
        "trunk.append(trunk0)\n",
        "trunk.append(trunk1)\n",
        "trunk.append(trunk2)\n",
        "trunk.append(trunk3)\n",
        "trunk.append(trunk4)\n",
        "\n",
        "# Apical tuft sections\n",
        "tuft0 = h.Section(name='tuft0')\n",
        "tuft1 = h.Section(name='tuft1')\n",
        "# Create h.SectionList for easier handling\n",
        "tuft = h.SectionList()\n",
        "tuft.append(tuft0)\n",
        "tuft.append(tuft1)\n",
        "\n",
        "################################################################################\n",
        "# Define properties of trunk Sections\n",
        "diams = [3, 2.5, 2, 1.5, 1.2]  # reducing diameters as we are distal from the soma\n",
        "for i, sec in enumerate(trunk):\n",
        "  sec.diam = diams[i]  # diameter (um)\n",
        "  sec.L = 120 if i < 4 else 20  # length (um)\n",
        "  sec.Ra = 100  # Axial resistance (Ohm * cm)\n",
        "  sec.cm = 1  # specific membrane capacitance (uF/cm2)\n",
        "  sec.nseg = 11  # number of segments\n",
        "\n",
        "  sec.insert('pas')\n",
        "  for seg in sec:\n",
        "    seg.pas.e = -65  # leak reversal potential (mV)\n",
        "    seg.pas.g = 0.00025  # leak maximal conductance (S/cm2)\n",
        "################################################################################\n",
        "\n",
        "\n",
        "################################################################################\n",
        "# Define properties of trunk Sections\n",
        "for i, sec in enumerate(tuft):\n",
        "  sec.diam = 1.0  # diameter (um)\n",
        "  sec.L = 100  # length (um)\n",
        "  sec.Ra = 100  # Axial resistance (Ohm * cm)\n",
        "  sec.cm = 1  # specific membrane capacitance (uF/cm2)\n",
        "  sec.nseg = 11  # number of segments\n",
        "\n",
        "  sec.insert('pas')\n",
        "  for seg in sec:\n",
        "    seg.pas.e = -65  # leak reversal potential (mV)\n",
        "    seg.pas.g = 0.00025  # leak maximal conductance (S/cm2)\n",
        "################################################################################"
      ],
      "metadata": {
        "id": "-HLZBDpMLqSR"
      },
      "execution_count": null,
      "outputs": []
    },
    {
      "cell_type": "code",
      "source": [
        "# Insert Calcium channels\n",
        "trunk4.insert('cad')\n",
        "trunk4.insert('sca')\n",
        "\n",
        "for seg in trunk4:\n",
        "  seg.sca.gbar = 5000  # Ca2+ maximal conductance (S/cm2)"
      ],
      "metadata": {
        "id": "7X_d-QmbAgYN"
      },
      "execution_count": null,
      "outputs": []
    },
    {
      "cell_type": "markdown",
      "source": [
        "Now, let's connect all compartments."
      ],
      "metadata": {
        "id": "uhR8RqmG6OjV"
      }
    },
    {
      "cell_type": "code",
      "source": [
        "trunk0.connect(soma(0.5), 0)  # trunkl0 to `middle` of the soma, `soma(0.5)`\n",
        "trunk1.connect(trunk0(1), 0)  # first point of trunk1 to last of trunk0\n",
        "trunk2.connect(trunk1(1), 0)  # first point of trunk2 to last of trunk1\n",
        "trunk3.connect(trunk2(1), 0)  # first point of trunk3 to last of trunk2\n",
        "trunk4.connect(trunk3(1), 0)  # first point of trunk4 to last of trunk3\n",
        "\n",
        "# tuft0 and tuft1 are child branches, they have a common parent trunk4\n",
        "tuft0.connect(trunk4(1), 0)  # first point of tuft0 to last of trunk4\n",
        "tuft1.connect(trunk4(1), 0)  # first point of tuft1 to last of trunk4"
      ],
      "metadata": {
        "id": "6rVfyWRD6RpY"
      },
      "execution_count": null,
      "outputs": []
    },
    {
      "cell_type": "markdown",
      "source": [
        "## Synaptic Stimulation"
      ],
      "metadata": {
        "id": "uDAtfSb41jbA"
      }
    },
    {
      "cell_type": "code",
      "source": [
        "# Create a current Clamp starting at 200 ms and with duration 5ms. Amplitude is an argument.     \n",
        "ic = h.IClamp(soma(0.5))\n",
        "ic.delay = 200  # ms\n",
        "ic.dur = 5  # ms\n",
        "ic.amp = 0.0  # nA"
      ],
      "metadata": {
        "id": "nT38t8Ko1i_P"
      },
      "execution_count": null,
      "outputs": []
    },
    {
      "cell_type": "code",
      "source": [
        "# Include an EPSP\n",
        "syn = h.Exp2Syn(tuft0(0.5))\n",
        "syn.tau1 = 0.1  # rise time\n",
        "syn.tau2 = 20  # decay time\n",
        "syn.e = 0  # reversal potential of the synapse\n",
        "\n",
        "#========== ...create an artificial spike (an \"event\" to be delivered to the synapse)...\n",
        "ns = h.NetStim(0.5)\n",
        "ns.start = 200  # stimulus onset\n",
        "ns.number = 1  # number of events\n",
        "\n",
        "#... and connect the event to the synapse.\n",
        "nc = h.NetCon(ns, syn)\n",
        "nc.delay = 0  # synaptic delay (ms)\n",
        "nc.weight[0] = 0.005  # synaptic weight (strength)"
      ],
      "metadata": {
        "id": "gPeJBFiv_Q7q"
      },
      "execution_count": null,
      "outputs": []
    },
    {
      "cell_type": "code",
      "source": [
        "vsoma_vec = h.Vector().record(soma(0.5)._ref_v)  # Membrane potential vector\n",
        "vtrunk4_vec = h.Vector().record(trunk4(0.5)._ref_v)  # Membrane potential vector\n",
        "t_vec = h.Vector().record(h._ref_t)  # Time stamp vector\n",
        "\n",
        "# Run the simulation\n",
        "h.finitialize(vinit)\n",
        "h.continuerun(tstop)\n",
        "\n",
        "# Remove the first 20ms to avoid artifacts\n",
        "tremove = 20\n",
        "vsoma_vec.remove(0, int(tremove/h.dt))\n",
        "vtrunk4_vec.remove(0, int(tremove/h.dt))\n",
        "t_vec.remove(0, int(tremove/h.dt))\n",
        "\n",
        "plt.figure(figsize=(8, 6))\n",
        "plt.plot(t_vec, vsoma_vec, label='soma')\n",
        "plt.plot(t_vec, vtrunk4_vec, label='trunk4')\n",
        "plt.xlabel('time (ms)')\n",
        "plt.ylabel('mV')\n",
        "plt.legend()\n",
        "plt.show()"
      ],
      "metadata": {
        "id": "t29AyLqE1342"
      },
      "execution_count": null,
      "outputs": []
    },
    {
      "cell_type": "markdown",
      "source": [
        "### Task: Stimuli combinations\n",
        "\n",
        "Try different combinations:\n",
        "\n",
        "1. Turn off both inputs\n",
        "2. Turn off somatic input, turn on dendritic one.\n",
        "3. Turn off dendritic input, turn on somatic input\n",
        "4. Turn on both inputs!\n",
        "\n",
        "Try to reproduce bursting somatic firing!"
      ],
      "metadata": {
        "id": "tkH_uWGOMLbA"
      }
    },
    {
      "cell_type": "code",
      "source": [
        "# Stimuli combinations\n",
        "current_soma = 0.0  # @param {type:\"number\"}\n",
        "weight_syn = 0.005 # @param {type:\"number\"}\n",
        "ic.amp = current_soma\n",
        "nc.weight[0] = weight_syn\n",
        "ic.delay = 200  # ms\n",
        "\n",
        "# Run the simulation\n",
        "h.finitialize(vinit)\n",
        "h.continuerun(tstop)\n",
        "\n",
        "# Remove the first 20ms to avoid artifacts\n",
        "tremove = 20\n",
        "vsoma_vec.remove(0, int(tremove/h.dt))\n",
        "vtrunk4_vec.remove(0, int(tremove/h.dt))\n",
        "t_vec.remove(0, int(tremove/h.dt))\n",
        "\n",
        "plt.figure(figsize=(8, 6))\n",
        "plt.plot(t_vec, vsoma_vec, label='soma')\n",
        "plt.plot(t_vec, vtrunk4_vec, label='trunk4')\n",
        "plt.xlabel('time (ms)')\n",
        "plt.ylabel('voltage (mV)')\n",
        "plt.legend()\n",
        "plt.show()"
      ],
      "metadata": {
        "id": "s8c078NdICyM",
        "cellView": "form"
      },
      "execution_count": null,
      "outputs": []
    }
  ]
}
