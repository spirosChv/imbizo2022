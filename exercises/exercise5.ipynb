{
  "nbformat": 4,
  "nbformat_minor": 0,
  "metadata": {
    "colab": {
      "name": "exercise5.ipynb",
      "provenance": [],
      "collapsed_sections": [],
      "toc_visible": true,
      "include_colab_link": true
    },
    "kernelspec": {
      "name": "python3",
      "display_name": "Python 3"
    },
    "language_info": {
      "name": "python"
    }
  },
  "cells": [
    {
      "cell_type": "markdown",
      "metadata": {
        "id": "view-in-github",
        "colab_type": "text"
      },
      "source": [
        "<a href=\"https://colab.research.google.com/github/spirosChv/imbizo2022/blob/main/exercises/exercise5.ipynb\" target=\"_parent\"><img src=\"https://colab.research.google.com/assets/colab-badge.svg\" alt=\"Open In Colab\"/></a>"
      ]
    },
    {
      "cell_type": "markdown",
      "source": [
        "# Simulating dendrites - Part 5: BAC model"
      ],
      "metadata": {
        "id": "CFFz4a7p0BOz"
      }
    },
    {
      "cell_type": "markdown",
      "source": [
        "First, we install neuron with python. For more info see [here](https://www.neuron.yale.edu/neuron/download)."
      ],
      "metadata": {
        "id": "4y_RNml7uHie"
      }
    },
    {
      "cell_type": "code",
      "source": [
        "!pip install neuron --quiet"
      ],
      "metadata": {
        "id": "B0VtDTHqz0Ge"
      },
      "execution_count": null,
      "outputs": []
    },
    {
      "cell_type": "markdown",
      "source": [
        "We import some basic python packages and the NEURON package."
      ],
      "metadata": {
        "id": "YPbGWFN0uROI"
      }
    },
    {
      "cell_type": "markdown",
      "source": [
        "## Compile ion channel models (.mod files)"
      ],
      "metadata": {
        "id": "KrjMzJAt83GM"
      }
    },
    {
      "cell_type": "code",
      "source": [
        "# @title Download the `.mod` file from github\n",
        "# @markdown Execute this cell.\n",
        " \n",
        "!rm -rf imbizo2022/\n",
        "!rm -rf x86_64/\n",
        "!git clone https://github.com/spirosChv/imbizo2022.git\n",
        "!mv imbizo2022/mechanisms/cad.mod .\n",
        "!mv imbizo2022/mechanisms/sca.mod .\n",
        "!nrnivmodl"
      ],
      "metadata": {
        "cellView": "form",
        "id": "_B5FwHjGOusG"
      },
      "execution_count": null,
      "outputs": []
    },
    {
      "cell_type": "code",
      "execution_count": null,
      "metadata": {
        "id": "usthWgIfzjmM"
      },
      "outputs": [],
      "source": [
        "import numpy as np\n",
        "import matplotlib.pyplot as plt\n",
        "from neuron import h\n",
        "h.load_file(\"stdrun.hoc\")"
      ]
    },
    {
      "cell_type": "code",
      "source": [
        "# @title Make nicer plots -- Execute this cell\n",
        "def mystyle():\n",
        "  \"\"\"\n",
        "  Create custom plotting style.\n",
        "\n",
        "  Returns\n",
        "  -------\n",
        "  my_style : dict\n",
        "      Dictionary with matplotlib parameters.\n",
        "\n",
        "  \"\"\"\n",
        "  # color pallette\n",
        "  style = {\n",
        "      # Use LaTeX to write all text\n",
        "      \"text.usetex\": False,\n",
        "      \"font.family\": \"DejaVu Sans\",\n",
        "      \"font.weight\": \"bold\",\n",
        "      # Use 16pt font in plots, to match 16pt font in document\n",
        "      \"axes.labelsize\": 16,\n",
        "      \"axes.titlesize\": 20,\n",
        "      \"font.size\": 16,\n",
        "      # Make the legend/label fonts a little smaller\n",
        "      \"legend.fontsize\": 14,\n",
        "      \"xtick.labelsize\": 14,\n",
        "      \"ytick.labelsize\": 14,\n",
        "      \"axes.linewidth\": 2.5,\n",
        "      \"lines.markersize\": 10.0,\n",
        "      \"lines.linewidth\": 2.5,\n",
        "      \"xtick.major.width\": 2.2,\n",
        "      \"ytick.major.width\": 2.2,\n",
        "      \"axes.labelweight\": \"bold\",\n",
        "      \"axes.spines.right\": False,\n",
        "      \"axes.spines.top\": False\n",
        "  }\n",
        "\n",
        "  return style\n",
        "\n",
        "\n",
        "plt.style.use(\"seaborn-colorblind\")\n",
        "plt.rcParams.update(mystyle())"
      ],
      "metadata": {
        "id": "bqXB1xt_8Vuh",
        "cellView": "form"
      },
      "execution_count": null,
      "outputs": []
    },
    {
      "cell_type": "markdown",
      "source": [
        "Define the simulation parameters"
      ],
      "metadata": {
        "id": "fI4fEn3tkb62"
      }
    },
    {
      "cell_type": "code",
      "source": [
        "# Simulation parameters\t\n",
        "tstop = 600  # simulation time (ms)\n",
        "h.dt = 0.1  # integration step (ms)\n",
        "vinit = -65  # initial voltage (mV)"
      ],
      "metadata": {
        "id": "5qhiFv-M0MLN"
      },
      "execution_count": null,
      "outputs": []
    },
    {
      "cell_type": "markdown",
      "source": [
        "### Create the morphology"
      ],
      "metadata": {
        "id": "8yPtsBbmz7lA"
      }
    },
    {
      "cell_type": "markdown",
      "source": [
        "First, we create the soma."
      ],
      "metadata": {
        "id": "8rp3XFr3uv1P"
      }
    },
    {
      "cell_type": "code",
      "source": [
        "soma = h.Section(name='soma')\n",
        "\n",
        "# Define properties of soma\n",
        "soma.diam = 20  # diameter (um)\n",
        "soma.L = 20  # length (um)\n",
        "soma.Ra = 100  # Axial resistance (Ohm * cm)\n",
        "soma.cm = 1  # specific membrane capacitance (uF/cm2)\n",
        "soma.nseg = 1  # number of segments\n",
        "\n",
        "# Insert the hh channels (inluding leak)\n",
        "soma.insert('hh')\n",
        "for seg in soma: \n",
        "  seg.hh.gnabar = 0.12  # Sodium conductance (S/cm2)\n",
        "  seg.hh.gkbar = 0.025  # Potassium conductance (S/cm2)\n",
        "  seg.hh.gl = 0.00025  # Leak conductance (S/cm2)\n",
        "  seg.hh.el = -65  # Reversal potential (mV)"
      ],
      "metadata": {
        "id": "OHan2Eu60Z_L"
      },
      "execution_count": null,
      "outputs": []
    },
    {
      "cell_type": "markdown",
      "source": [
        "## Define the sections!\n",
        "\n",
        "Then, we create the dendritic tree."
      ],
      "metadata": {
        "id": "k7Gl5uipu14o"
      }
    },
    {
      "cell_type": "code",
      "source": [
        "# Apical trunk sections\n",
        "trunk0 = h.Section(name='trunk0')\n",
        "trunk1 = h.Section(name='trunk1')\n",
        "trunk2 = h.Section(name='trunk2')\n",
        "trunk3 = h.Section(name='trunk3')\n",
        "trunk4 = h.Section(name='trunk4')\n",
        "# Create h.SectionList for easier handling\n",
        "trunk = h.SectionList()\n",
        "trunk.append(trunk0)\n",
        "trunk.append(trunk1)\n",
        "trunk.append(trunk2)\n",
        "trunk.append(trunk3)\n",
        "trunk.append(trunk4)\n",
        "\n",
        "# Apical tuft sections\n",
        "tuft0 = h.Section(name='tuft0')\n",
        "tuft1 = h.Section(name='tuft1')\n",
        "# Create h.SectionList for easier handling\n",
        "tuft = h.SectionList()\n",
        "tuft.append(tuft0)\n",
        "tuft.append(tuft1)\n",
        "\n",
        "################################################################################\n",
        "# Define properties of trunk Sections\n",
        "diams = [3, 2.5, 2, 1.5, 1.2]  # reducing diameters as we are distal from the soma\n",
        "for i, sec in enumerate(trunk):\n",
        "  sec.diam = diams[i]  # diameter (um)\n",
        "  sec.L = 120 if i < 4 else 20  # length (um)\n",
        "  sec.Ra = 100  # Axial resistance (Ohm * cm)\n",
        "  sec.cm = 1  # specific membrane capacitance (uF/cm2)\n",
        "  sec.nseg = 11  # number of segments\n",
        "\n",
        "  sec.insert('pas')\n",
        "  for seg in sec:\n",
        "    seg.pas.e = -65  # leak reversal potential (mV)\n",
        "    seg.pas.g = 0.00025  # leak maximal conductance (S/cm2)\n",
        "################################################################################\n",
        "\n",
        "\n",
        "################################################################################\n",
        "# Define properties of trunk Sections\n",
        "for i, sec in enumerate(tuft):\n",
        "  sec.diam = 1.0  # diameter (um)\n",
        "  sec.L = 100  # length (um)\n",
        "  sec.Ra = 100  # Axial resistance (Ohm * cm)\n",
        "  sec.cm = 1  # specific membrane capacitance (uF/cm2)\n",
        "  sec.nseg = 11  # number of segments\n",
        "\n",
        "  sec.insert('pas')\n",
        "  for seg in sec:\n",
        "    seg.pas.e = -65  # leak reversal potential (mV)\n",
        "    seg.pas.g = 0.00025  # leak maximal conductance (S/cm2)\n",
        "################################################################################"
      ],
      "metadata": {
        "id": "-HLZBDpMLqSR"
      },
      "execution_count": null,
      "outputs": []
    },
    {
      "cell_type": "code",
      "source": [
        "print(h.sca.code)"
      ],
      "metadata": {
        "id": "2HKVPgVTPOps"
      },
      "execution_count": null,
      "outputs": []
    },
    {
      "cell_type": "code",
      "source": [
        "# @markdown Plot the gating variables\n",
        "def Exp(x):\n",
        "  if x < -100:\n",
        "    return 0\n",
        "  else:\n",
        "    return np.exp(x)\n",
        "\n",
        "def vtrap(x, y):\n",
        "  if np.abs(x/y) < 1e-6:\n",
        "    v_ = y*(1 - x/y/2)\n",
        "  else:\n",
        "    v_ = x/(Exp(x/y) - 1)\n",
        "  return v_\n",
        "\n",
        "\n",
        "def inf_tau(a, b, qt=1):\n",
        "  \"\"\"\n",
        "  Calculate the steady-state and the time constant.\n",
        "\n",
        "  Args:\n",
        "    a : list\n",
        "      List with alpha values\n",
        "    b : list\n",
        "      List with beta values\n",
        "    qt : float, optional\n",
        "      Temperature correction. Default is 1.\n",
        "  \n",
        "  ----\n",
        "  \n",
        "  Returns:\n",
        "    xinf : float\n",
        "      The gate variable steady-state.\n",
        "    xtau: float\n",
        "      The gate variable time constant in ms.\n",
        "  \"\"\"\n",
        "\n",
        "  a = np.array(a)\n",
        "  b = np.array(b)\n",
        "\n",
        "  xinf = a/(a+b)\n",
        "  xtau = 1/(a+b)\n",
        "  return xinf, xtau/qt\n",
        "\n",
        "\n",
        "v_all = np.linspace(-120, 120, 10000)\n",
        "\n",
        "alpha_m, beta_m = [], []\n",
        "alpha_h, beta_h = [], []\n",
        "for v in v_all:\n",
        "  alpha_m.append(0.055*vtrap(-(v + 35), 1))\n",
        "  beta_m.append(0.94*np.exp(-(v + 75)/17))\n",
        "  \n",
        "  alpha_h.append(0.000152*np.exp(-(v + 13)/50))\n",
        "  beta_h.append(0.00217/(np.exp(-(v + 15)/28) + 1))\n",
        "\n",
        "plt.figure(figsize=(8, 6))\n",
        "plt.subplot(1, 2, 1)\n",
        "plt.plot(v_all, alpha_m, label=r'$\\alpha_m$')\n",
        "plt.plot(v_all, beta_m, label=r'$\\beta_m$')\n",
        "plt.xlabel(r'v ($mV$)')\n",
        "plt.ylabel(r'rate coeff. ($ms^{-1}$)')\n",
        "plt.legend()\n",
        "\n",
        "plt.subplot(1, 2, 2)\n",
        "plt.plot(v_all, alpha_h, label=r'$\\alpha_h$')\n",
        "plt.plot(v_all, beta_h, label=r'$\\beta_h$')\n",
        "plt.xlabel(r'v ($mV$)')\n",
        "plt.ylabel(r'rate coeff. ($ms^{-1}$)')\n",
        "plt.legend()\n",
        "\n",
        "plt.tight_layout()\n",
        "plt.show()\n",
        "\n",
        "\n",
        "minf, mtau = inf_tau(alpha_m, beta_m)\n",
        "hinf, htau = inf_tau(alpha_h, beta_h)\n",
        "\n",
        "plt.figure(figsize=(8, 6))\n",
        "plt.subplot(1, 2, 1)\n",
        "plt.plot(v_all, minf, label=r'$m_\\infty$')\n",
        "plt.plot(v_all, hinf, label=r'$h_\\infty$')\n",
        "plt.xlabel(r'v ($mV$)')\n",
        "plt.ylabel('open probability')\n",
        "plt.legend()\n",
        "\n",
        "plt.subplot(1, 2, 2)\n",
        "plt.plot(v_all, mtau, label=r'$\\tau_m$')\n",
        "plt.plot(v_all, htau, label=r'$\\tau_h$')\n",
        "plt.xlabel(r'v ($mV$)')\n",
        "plt.ylabel(r'time cnst. ($ms$)')\n",
        "plt.legend()\n",
        "\n",
        "plt.tight_layout()\n",
        "plt.show()"
      ],
      "metadata": {
        "cellView": "form",
        "id": "gCRuDsbzRIAv"
      },
      "execution_count": null,
      "outputs": []
    },
    {
      "cell_type": "code",
      "source": [
        "# Insert Calcium channels\n",
        "trunk4.insert('cad')\n",
        "trunk4.insert('sca')\n",
        "\n",
        "for seg in trunk4:\n",
        "  seg.sca.gcabar = 0.35  # Ca2+ maximal conductance (S/cm2)"
      ],
      "metadata": {
        "id": "7X_d-QmbAgYN"
      },
      "execution_count": null,
      "outputs": []
    },
    {
      "cell_type": "markdown",
      "source": [
        "Now, let's connect all compartments."
      ],
      "metadata": {
        "id": "uhR8RqmG6OjV"
      }
    },
    {
      "cell_type": "code",
      "source": [
        "trunk0.connect(soma(0.5), 0)  # trunkl0 to `middle` of the soma, `soma(0.5)`\n",
        "trunk1.connect(trunk0(1), 0)  # first point of trunk1 to last of trunk0\n",
        "trunk2.connect(trunk1(1), 0)  # first point of trunk2 to last of trunk1\n",
        "trunk3.connect(trunk2(1), 0)  # first point of trunk3 to last of trunk2\n",
        "trunk4.connect(trunk3(1), 0)  # first point of trunk4 to last of trunk3\n",
        "\n",
        "# tuft0 and tuft1 are child branches, they have a common parent trunk4\n",
        "tuft0.connect(trunk4(1), 0)  # first point of tuft0 to last of trunk4\n",
        "tuft1.connect(trunk4(1), 0)  # first point of tuft1 to last of trunk4"
      ],
      "metadata": {
        "id": "6rVfyWRD6RpY"
      },
      "execution_count": null,
      "outputs": []
    },
    {
      "cell_type": "markdown",
      "source": [
        "## Synaptic Stimulation"
      ],
      "metadata": {
        "id": "uDAtfSb41jbA"
      }
    },
    {
      "cell_type": "code",
      "source": [
        "# Create a current Clamp starting at 200 ms and with duration 5ms. Amplitude is an argument.     \n",
        "ic = h.IClamp(soma(0.5))\n",
        "ic.delay = 200  # ms\n",
        "ic.dur = 5  # ms\n",
        "ic.amp = 0.0  # nA"
      ],
      "metadata": {
        "id": "nT38t8Ko1i_P"
      },
      "execution_count": null,
      "outputs": []
    },
    {
      "cell_type": "code",
      "source": [
        "# Include an EPSP\n",
        "syn = h.Exp2Syn(tuft0(0.5))\n",
        "syn.tau1 = 0.1  # rise time\n",
        "syn.tau2 = 20  # decay time\n",
        "syn.e = 0  # reversal potential of the synapse\n",
        "\n",
        "#========== ...create an artificial spike (an \"event\" to be delivered to the synapse)...\n",
        "ns = h.NetStim(0.5)\n",
        "ns.start = 200  # stimulus onset\n",
        "ns.number = 1  # number of events\n",
        "\n",
        "#... and connect the event to the synapse.\n",
        "nc = h.NetCon(ns, syn)\n",
        "nc.delay = 0  # synaptic delay (ms)\n",
        "nc.weight[0] = 0.002  # synaptic weight (strength)"
      ],
      "metadata": {
        "id": "gPeJBFiv_Q7q"
      },
      "execution_count": null,
      "outputs": []
    },
    {
      "cell_type": "code",
      "source": [
        "vsoma_vec = h.Vector().record(soma(0.5)._ref_v)  # Membrane potential vector\n",
        "vtrunk4_vec = h.Vector().record(trunk4(0.5)._ref_v)  # Membrane potential vector\n",
        "t_vec = h.Vector().record(h._ref_t)  # Time stamp vector\n",
        "\n",
        "# Run the simulation\n",
        "h.finitialize(vinit)\n",
        "h.continuerun(tstop)\n",
        "\n",
        "# Remove the first 20ms to avoid artifacts\n",
        "tremove = 20\n",
        "vsoma_vec.remove(0, int(tremove/h.dt))\n",
        "vtrunk4_vec.remove(0, int(tremove/h.dt))\n",
        "t_vec.remove(0, int(tremove/h.dt))\n",
        "\n",
        "plt.figure(figsize=(8, 6))\n",
        "plt.plot(t_vec, vsoma_vec, label='soma')\n",
        "plt.plot(t_vec, vtrunk4_vec, label='trunk4')\n",
        "plt.xlabel('time (ms)')\n",
        "plt.ylabel('mV')\n",
        "plt.legend()\n",
        "plt.show()"
      ],
      "metadata": {
        "id": "t29AyLqE1342"
      },
      "execution_count": null,
      "outputs": []
    },
    {
      "cell_type": "markdown",
      "source": [
        "### Task: Stimuli combinations\n",
        "\n",
        "Try different combinations:\n",
        "\n",
        "1. Turn off both inputs\n",
        "2. Turn off somatic input, turn on dendritic one.\n",
        "3. Turn off dendritic input, turn on somatic input\n",
        "4. Turn on both inputs!\n",
        "\n",
        "Try to reproduce bursting somatic firing!"
      ],
      "metadata": {
        "id": "tkH_uWGOMLbA"
      }
    },
    {
      "cell_type": "code",
      "source": [
        "# Stimuli combinations\n",
        "current_soma = 0.6  # @param {type:\"number\"}\n",
        "weight_syn = 0.004 # @param {type:\"number\"}\n",
        "ic.amp = current_soma\n",
        "nc.weight[0] = weight_syn\n",
        "ic.delay = 200  # ms\n",
        "\n",
        "# Run the simulation\n",
        "h.finitialize(vinit)\n",
        "h.continuerun(tstop)\n",
        "\n",
        "# Remove the first 20ms to avoid artifacts\n",
        "tremove = 20\n",
        "vsoma_vec.remove(0, int(tremove/h.dt))\n",
        "vtrunk4_vec.remove(0, int(tremove/h.dt))\n",
        "t_vec.remove(0, int(tremove/h.dt))\n",
        "\n",
        "plt.figure(figsize=(8, 6))\n",
        "plt.plot(t_vec, vsoma_vec, label='soma')\n",
        "plt.plot(t_vec, vtrunk4_vec, label='trunk4')\n",
        "plt.xlabel('time (ms)')\n",
        "plt.ylabel('voltage (mV)')\n",
        "plt.legend()\n",
        "plt.show()"
      ],
      "metadata": {
        "id": "s8c078NdICyM",
        "cellView": "form"
      },
      "execution_count": null,
      "outputs": []
    }
  ]
}